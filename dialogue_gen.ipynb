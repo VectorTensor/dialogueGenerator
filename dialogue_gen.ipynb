{
 "cells": [
  {
   "cell_type": "code",
   "execution_count": 1,
   "metadata": {},
   "outputs": [],
   "source": [
    "import torch\n",
    "import torch.nn as nn\n",
    "from torch import optim\n",
    "import torch.nn.functional as F\n"
   ]
  },
  {
   "cell_type": "code",
   "execution_count": 2,
   "metadata": {},
   "outputs": [],
   "source": [
    "PAD_token = 0 \n",
    "SOS_token = 1\n",
    "EOS_token = 2\n",
    "BATCH_SIZE = 50"
   ]
  },
  {
   "cell_type": "code",
   "execution_count": 3,
   "metadata": {},
   "outputs": [],
   "source": [
    "\n",
    "\n",
    "class EncoderRNN(nn.Module):\n",
    "    def __init__(self,hidden_size,vocab_size, n_layers=1,dropout = 0):\n",
    "        super(EncoderRNN, self).__init__()\n",
    "        self.n_layers = n_layers\n",
    "        self.hidden_size = hidden_size\n",
    "        self.embedding = nn.Embedding(vocab_size, hidden_size)\n",
    "        self.gru = nn.GRU(hidden_size, hidden_size, n_layers, dropout =(0 if n_layers ==1 else dropout), bidirectional= True)\n",
    "    \n",
    "    def forward(self, input_seq, input_length , hidden=None):\n",
    "        embedded = self.embedding(input_seq)\n",
    "        packed = nn.utils.rnn.pack_padded_sequence(embedded, input_lengths) #for faster computation\n",
    "        outputs, hidden = self.gru(packed, hidden)\n",
    "\n",
    "        outputs , _ = nn.utils.rnn.pad_packed_sequence(outputs)\n",
    "        outputs = outputs[:,:, :self.hidden_size] + outputs[:,:,self.hidden_size:] # bidirectional gru so  adding both halves \n",
    "\n",
    "        return outputs, hidden\n",
    "\n",
    "    "
   ]
  },
  {
   "cell_type": "code",
   "execution_count": 4,
   "metadata": {},
   "outputs": [],
   "source": [
    "class Attn(nn.Module):\n",
    "    def __init__(self, hidden_size,sequence_length):\n",
    "        super(Attn,self).__init__()\n",
    "        self.hidden_size = hidden_size\n",
    "        self.w1 = nn.Linear(sequence_length* hidden_size, hidden_size)\n",
    "        self.w2 = nn.Linear(hidden_size, hidden_size)\n",
    "        \n",
    "\n",
    "    def dot_score(self, hidden,encoder_output):\n",
    "        return torch.sum(hidden * encoder_output, dim =2 )\n",
    "\n",
    "    def forward(self, encoder_output, decoder_state):\n",
    "        FC = self.w1(encoder_output) + self.w2(decoder_state)\n",
    "        tan = F.tanh(FC)\n",
    "        attention_weights = F.softmax(tan)\n",
    "        return attention_weights\n",
    "\n",
    "    \n",
    "\n",
    "\n"
   ]
  },
  {
   "cell_type": "code",
   "execution_count": 5,
   "metadata": {},
   "outputs": [],
   "source": [
    "class DecoderRNN(nn.Module):\n",
    "    def __init__(self, hidden_size,output_size, vocab_size, n_layers = 1,dropout=0.1):\n",
    "        super(DecoderRNN , self).__init__()\n",
    "        self.hidden_size = hidden_size\n",
    "        self.output_size= output_size\n",
    "        self.n_layers = n_layers\n",
    "        self.dropout = dropout   #vocab_size == output_size\n",
    "        self.vocab_size = vocab_size\n",
    "\n",
    "        self.embedding = nn.Embedding(vocab_size, hidden_size)\n",
    "        self.embedding_dropout = nn.Dropout(dropout)\n",
    "        self.gru = nn.GRU(2*hidden_size, hidden_size, n_layers, dropout = (0 if n_layers==1 else dropout))\n",
    "        \n",
    "        self.out = nn.Linear(hidden_size, output_size)\n",
    "\n",
    "    def forward(self, input_step, context,last_hidden):\n",
    "        embedded = self.embedding(input_step)\n",
    "        embedded = self.embedding_dropout(embedded)\n",
    "        x= torch.cat(embedded, context)\n",
    "\n",
    "        rnn_output, hidden = self.gru(x, last_hidden)\n",
    "        rnn_output = rnn_output.squeeze(0)\n",
    "        output = self.out(rnn_output)\n",
    "        output = F.softmax(output, dim =1 )\n",
    "        return output, hidden\n",
    "        \n",
    "        \n",
    "        \n",
    "\n",
    "\n",
    "        \n"
   ]
  },
  {
   "cell_type": "code",
   "execution_count": 6,
   "metadata": {},
   "outputs": [],
   "source": [
    "class MainModel(nn.Module):\n",
    "    def __init__(self,hidden_size,vocab_size,sequence_length, n_layers=1,dropout = 0):\n",
    "        super(DecoderRNN, self).__init__()\n",
    "        \n",
    "        self.Encode = EncoderRNN(hidden_size, vocab_size, n_layers,dropout )\n",
    "        self.Attention = Attn(hidden_size, sequence_length)\n",
    "        self.Decode = DecoderRNN(hidden_size,vocab_size, vocab_size, n_layers, dropout)\n",
    "        \n",
    "    def forward(self, input_seq, input_length , hidden ):\n",
    "        encoder_output, encoder_hidden = self.Encode(input_seq, input_length, hidden)\n",
    "        attn_weights = self.Attention(encoder_output,encoder_hidden)\n",
    "        context = torch.sum(attn_weights*encoder_output) # context vector\n",
    "        input_step = SOS_token* torch.ones(50)\n",
    "        last_hidden = hidden\n",
    "        output =[]\n",
    "        for i in range(input_length):\n",
    "            output_decoder, decoder_hidden = self.Decode(input_step, context, last_hidden)\n",
    "            \n",
    "            input_step = output_decoder.squeeze(0) \n",
    "            output.append(input_step)\n",
    "            _, input_step = input_step.topk(1)\n",
    "            input_step = input_step.squeeze(1)\n",
    "            \n",
    "\n",
    "            last_hidden = decoder_hidden\n",
    "            attn_weights = self.Attention(encoder_output,last_hidden)\n",
    "            context = torch.sum(attn_weights*encoder_output) # context vector\n",
    "\n",
    "        return output\n",
    "\n",
    "        \n",
    "\n",
    "            \n",
    "            \n",
    "            \n",
    "\n",
    "\n",
    "\n",
    "\n",
    "        \n",
    "\n",
    "        \n",
    "        "
   ]
  },
  {
   "cell_type": "code",
   "execution_count": 8,
   "metadata": {},
   "outputs": [],
   "source": [
    "# USE cross entropy loss\n",
    "#The model returns tensor from a softmax operation The index with max value is the required ans \n",
    "# the ans is the key value for the dictonary which has 1-> hi , 2-> bye key value pairs for words and numbers\n",
    "# make both index2string and string2index dictionary\n",
    "# hidden_size,vocab_size,sequence_length, n_layers=1,dropout = 0"
   ]
  },
  {
   "cell_type": "code",
   "execution_count": null,
   "metadata": {},
   "outputs": [],
   "source": [
    "criterion = nn.CrossEntropyLoss()\n"
   ]
  }
 ],
 "metadata": {
  "kernelspec": {
   "display_name": "Python 3.10.6 64-bit",
   "language": "python",
   "name": "python3"
  },
  "language_info": {
   "codemirror_mode": {
    "name": "ipython",
    "version": 3
   },
   "file_extension": ".py",
   "mimetype": "text/x-python",
   "name": "python",
   "nbconvert_exporter": "python",
   "pygments_lexer": "ipython3",
   "version": "3.10.6"
  },
  "orig_nbformat": 4,
  "vscode": {
   "interpreter": {
    "hash": "31f2aee4e71d21fbe5cf8b01ff0e069b9275f58929596ceb00d14d90e3e16cd6"
   }
  }
 },
 "nbformat": 4,
 "nbformat_minor": 2
}
