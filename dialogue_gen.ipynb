{
 "cells": [
  {
   "cell_type": "code",
   "execution_count": 61,
   "metadata": {},
   "outputs": [],
   "source": [
    "import torch\n",
    "import torch.nn as nn\n",
    "from torch import optim\n",
    "import torch.nn.functional as F\n",
    "from tqdm import tqdm , tqdm_notebook, notebook\n",
    "from torch.nn.utils.rnn import pack_padded_sequence, pad_packed_sequence\n"
   ]
  },
  {
   "cell_type": "code",
   "execution_count": 62,
   "metadata": {},
   "outputs": [],
   "source": [
    "PAD_token = 0 \n",
    "SOS_token = 1\n",
    "EOS_token = 2\n",
    "BATCH_SIZE = 50"
   ]
  },
  {
   "cell_type": "code",
   "execution_count": 63,
   "metadata": {},
   "outputs": [],
   "source": [
    "\n",
    "\n",
    "class EncoderRNN(nn.Module):\n",
    "    def __init__(self,hidden_size,vocab_size, n_layers=1,dropout = 0):\n",
    "        super(EncoderRNN, self).__init__()\n",
    "        self.n_layers = n_layers\n",
    "        self.hidden_size = hidden_size\n",
    "        self.embedding = nn.Embedding(vocab_size, hidden_size)\n",
    "        self.gru = nn.GRU(hidden_size, hidden_size, n_layers, dropout =(0 if n_layers ==1 else dropout), bidirectional= True)\n",
    "    \n",
    "    def forward(self, input_seq, input_length , hidden=None):\n",
    "        embedded = self.embedding(input_seq)\n",
    "        packed = pack_padded_sequence(embedded, input_length) #for faster computation\n",
    "        outputs, hidden = self.gru(packed, hidden)\n",
    "\n",
    "        outputs , _ = pad_packed_sequence(outputs)\n",
    "        outputs = outputs[:,:, :self.hidden_size] + outputs[:,:,self.hidden_size:] # bidirectional gru so  adding both halves \n",
    "\n",
    "        return outputs, hidden\n",
    "\n",
    "    "
   ]
  },
  {
   "cell_type": "code",
   "execution_count": 64,
   "metadata": {},
   "outputs": [],
   "source": [
    "class Attn(nn.Module):\n",
    "    def __init__(self, hidden_size,sequence_length):\n",
    "        super(Attn,self).__init__()\n",
    "        self.hidden_size = hidden_size\n",
    "        self.w1 = nn.Linear(sequence_length* hidden_size, hidden_size)\n",
    "        self.w2 = nn.Linear(hidden_size, hidden_size)\n",
    "        \n",
    "\n",
    "    def dot_score(self, hidden,encoder_output):\n",
    "        return torch.sum(hidden * encoder_output, dim =2 )\n",
    "\n",
    "    def forward(self, encoder_output, decoder_state):\n",
    "        FC = self.w1(encoder_output) + self.w2(decoder_state)\n",
    "        tan = F.tanh(FC)\n",
    "        attention_weights = F.softmax(tan)\n",
    "        return attention_weights\n",
    "\n",
    "    \n",
    "\n",
    "\n"
   ]
  },
  {
   "cell_type": "code",
   "execution_count": 65,
   "metadata": {},
   "outputs": [],
   "source": [
    "class DecoderRNN(nn.Module):\n",
    "    def __init__(self, hidden_size,output_size, vocab_size, n_layers = 1,dropout=0.1):\n",
    "        super(DecoderRNN , self).__init__()\n",
    "        self.hidden_size = hidden_size\n",
    "        self.output_size= output_size\n",
    "        self.n_layers = n_layers\n",
    "        self.dropout = dropout   #vocab_size == output_size\n",
    "        self.vocab_size = vocab_size\n",
    "\n",
    "        self.embedding = nn.Embedding(vocab_size, hidden_size)\n",
    "        self.embedding_dropout = nn.Dropout(dropout)\n",
    "        self.gru = nn.GRU(2*hidden_size, hidden_size, n_layers, dropout = (0 if n_layers==1 else dropout))\n",
    "        \n",
    "        self.out = nn.Linear(hidden_size, output_size)\n",
    "\n",
    "    def forward(self, input_step, context,last_hidden):\n",
    "        embedded = self.embedding(input_step)\n",
    "        embedded = self.embedding_dropout(embedded)\n",
    "        x= torch.cat(embedded, context)\n",
    "\n",
    "        rnn_output, hidden = self.gru(x, last_hidden)\n",
    "        rnn_output = rnn_output.squeeze(0)\n",
    "        output = self.out(rnn_output)\n",
    "        output = F.softmax(output, dim =1 )\n",
    "        return output, hidden\n",
    "        \n",
    "        \n",
    "        \n",
    "\n",
    "\n",
    "        \n"
   ]
  },
  {
   "cell_type": "code",
   "execution_count": 66,
   "metadata": {},
   "outputs": [],
   "source": [
    "class MainModel(nn.Module):\n",
    "    def __init__(self,hidden_size,vocab_size,sequence_length, n_layers=1,dropout = 0.0):\n",
    "        super(MainModel, self).__init__()\n",
    "        self.input_length = sequence_length\n",
    "        self.Encode = EncoderRNN(hidden_size, vocab_size, n_layers,dropout )\n",
    "        self.Attention = Attn(hidden_size, sequence_length)\n",
    "        self.Decode = DecoderRNN(hidden_size,vocab_size, vocab_size, n_layers, dropout)\n",
    "        \n",
    "\n",
    "    def init_hidden(self):\n",
    "        return torch.randn(self.n_layers , self.batch_size, self.hidden_size).to(self.device)\n",
    "\n",
    "    def forward(self, input_seq ):\n",
    "        hidden = self.init_hidden()\n",
    "\n",
    "        encoder_output, encoder_hidden = self.Encode(input_seq, self.input_length, hidden)\n",
    "        attn_weights = self.Attention(encoder_output,encoder_hidden)\n",
    "        context = torch.sum(attn_weights*encoder_output) # context vector\n",
    "        input_step = SOS_token* torch.ones(50)\n",
    "        last_hidden = hidden\n",
    "        output =[]\n",
    "        for i in range(self.input_length):\n",
    "            output_decoder, decoder_hidden = self.Decode(input_step, context, last_hidden)\n",
    "            \n",
    "            input_step = output_decoder.squeeze(0) \n",
    "            output.append(input_step)\n",
    "            _, input_step = input_step.topk(1)\n",
    "            input_step = input_step.squeeze(1)\n",
    "            \n",
    "\n",
    "            last_hidden = decoder_hidden\n",
    "            attn_weights = self.Attention(encoder_output,last_hidden)\n",
    "            context = torch.sum(attn_weights*encoder_output) # context vector\n",
    "\n",
    "        return output\n",
    "\n",
    "        \n",
    "\n",
    "            \n",
    "            \n",
    "            \n",
    "\n",
    "\n",
    "\n",
    "\n",
    "        \n",
    "\n",
    "        \n",
    "        "
   ]
  },
  {
   "cell_type": "code",
   "execution_count": 67,
   "metadata": {},
   "outputs": [],
   "source": [
    "# USE cross entropy loss\n",
    "#The model returns tensor from a softmax operation The index with max value is the required ans \n",
    "# the ans is the key value for the dictonary which has 1-> hi , 2-> bye key value pairs for words and numbers\n",
    "# make both index2string and string2index dictionary\n",
    "# hidden_size,vocab_size,sequence_length, n_layers=1,dropout = 0"
   ]
  },
  {
   "cell_type": "code",
   "execution_count": 68,
   "metadata": {},
   "outputs": [],
   "source": [
    "# file read path\n",
    "\n",
    "import os\n",
    "import codecs\n",
    "\n",
    "def read_in(folder):\n",
    "    files = os.listdir(folder)\n",
    "    a_list = []\n",
    "    for a_file in files:\n",
    "        if not a_file.startswith(\".\"):\n",
    "            if a_file == \"dialogues_train.txt\":\n",
    "                f = codecs.open(folder + a_file, \"r\", encoding = \"ISO-8859-1\", errors = \"ignore\")\n",
    "                a_list.append(f.read())\n",
    "                f.close()\n",
    "    return a_list"
   ]
  },
  {
   "cell_type": "code",
   "execution_count": 69,
   "metadata": {},
   "outputs": [],
   "source": [
    "# file read path\n",
    "\n",
    "import os\n",
    "import codecs\n",
    "\n",
    "def read_in(folder):\n",
    "    files = os.listdir(folder)\n",
    "    a_list = []\n",
    "    for a_file in files:\n",
    "        if not a_file.startswith(\".\"):\n",
    "            if a_file == \"dialogues_train.txt\":\n",
    "                f = codecs.open(folder + a_file, \"r\", encoding = \"ISO-8859-1\", errors = \"ignore\")\n",
    "                a_list.append(f.read())\n",
    "                f.close()\n",
    "    return a_list"
   ]
  },
  {
   "cell_type": "code",
   "execution_count": 70,
   "metadata": {},
   "outputs": [],
   "source": [
    "#test_list = read_in(\"/Users/Madara/Desktop/train/\")\n",
    "test_list = read_in(\"/mnt/c/Prayash/coding/nlp/train/\")\n",
    "print(len(test_list))\n",
    "print(test_list[0])"
   ]
  },
  {
   "cell_type": "code",
   "execution_count": 71,
   "metadata": {},
   "outputs": [
    {
     "name": "stdout",
     "output_type": "stream",
     "text": [
      "Say , Jim , how about going for a few beers after dinner ?\n",
      "You know that is tempting but is really not good for our fitness .\n",
      "What do you mean ? It will help us to relax .\n",
      "Do you really think so ? I don't . It will just make us fat and act silly . Remember last time ?\n",
      "I guess you are right.But what shall we do ? I don't feel like sitting at home .\n"
     ]
    }
   ],
   "source": [
    "#text splitting\n",
    "new_test_list = [word for word in test_list[0].split(\" __eou__ \")]\n",
    "\n",
    "for index in range(0, 5):\n",
    "    print(new_test_list[index])\n",
    "\n"
   ]
  },
  {
   "cell_type": "code",
   "execution_count": 72,
   "metadata": {},
   "outputs": [
    {
     "ename": "ModuleNotFoundError",
     "evalue": "No module named 'nltk'",
     "output_type": "error",
     "traceback": [
      "\u001b[0;31m---------------------------------------------------------------------------\u001b[0m",
      "\u001b[0;31mModuleNotFoundError\u001b[0m                       Traceback (most recent call last)",
      "Cell \u001b[0;32mIn [72], line 2\u001b[0m\n\u001b[1;32m      1\u001b[0m \u001b[39m#extract features\u001b[39;00m\n\u001b[0;32m----> 2\u001b[0m \u001b[39mimport\u001b[39;00m \u001b[39mnltk\u001b[39;00m\n\u001b[1;32m      3\u001b[0m \u001b[39mfrom\u001b[39;00m \u001b[39mnltk\u001b[39;00m \u001b[39mimport\u001b[39;00m word_tokenize\n\u001b[1;32m      4\u001b[0m nltk\u001b[39m.\u001b[39mdownload(\u001b[39m'\u001b[39m\u001b[39mpunkt\u001b[39m\u001b[39m'\u001b[39m)\n",
      "\u001b[0;31mModuleNotFoundError\u001b[0m: No module named 'nltk'"
     ]
    }
   ],
   "source": [
    "#extract features\n",
    "import nltk\n",
    "from nltk import word_tokenize\n",
    "nltk.download('punkt')\n",
    "\n",
    "def get_features(text):\n",
    "    features = {}\n",
    "    word_index = 0\n",
    "    \n",
    "    word_list = [word for word in word_tokenize(text.lower()) if word.isalpha()]\n",
    "    for word in word_list:\n",
    "        word_index += 1\n",
    "        features[word] = word_index \n",
    "    return features\n",
    "\n",
    "all_features = [get_features(text) for text in new_test_list]\n",
    "\n",
    "print(len(all_features))\n",
    "print(all_features[0])"
   ]
  },
  {
   "cell_type": "code",
   "execution_count": 16,
   "metadata": {},
   "outputs": [],
   "source": [
    "criterion = nn.CrossEntropyLoss()\n",
    "hidden_size = 500\n",
    "vocab_size = 2000\n",
    "sequence_length = 20 \n",
    "n_layers = 2 \n",
    "dropout =0.5\n",
    "model = MainModel(hidden_size,vocab_size,sequence_length, n_layers, dropout)\n",
    "optimizer = optim.Adam([p for p in model.parameters() if p.requires_grad], lr = 0.001)\n",
    "\n",
    "train_loader = torch.randn(10,5 ,20) # initiallize it later later"
   ]
  },
  {
   "cell_type": "code",
   "execution_count": 18,
   "metadata": {},
   "outputs": [],
   "source": [
    "device = torch.device('cuda' if torch.cuda.is_available() else  'cpu')\n",
    "model.train()\n",
    "train_losses=[]\n",
    "def train():\n",
    "    for epoch in range (10):\n",
    "        progress_bar = notebook.tqdm(train_loader,leave= False )\n",
    "\n",
    "        losses = []\n",
    "        total = 0 \n",
    "        for inputs, target in progress_bar:\n",
    "            inputs, target = inputs.to(device) , target.to(device)\n",
    "            model.zero_grad()\n",
    "            output = model(input)\n",
    "            loss = criterion(output, target)\n",
    "            loss.backward()\n",
    "\n",
    "            nn.utils.clip_grad_norm_(model.parameters(),3)\n",
    "\n",
    "            optimizer.step()\n",
    "\n",
    "            progress_bar.set_description(f'Loss: {loss.item():.3f}')\n",
    "\n",
    "            losses.append(loss.item())\n",
    "            total +=1 \n",
    "\n",
    "        epoch_loss = sum(losses)/total\n",
    "        train_losses.append(epoch_loss)\n",
    "\n",
    "\n",
    "        tqdm.write(f'Epoch #{epoch+1} \\t Train Loss: {epoch_loss:3f}')\n",
    "\n",
    "\n",
    "\n",
    "\n",
    "\n",
    "            \n",
    "\n",
    "            \n",
    "\n",
    "    "
   ]
  },
  {
   "cell_type": "code",
   "execution_count": null,
   "metadata": {},
   "outputs": [],
   "source": []
  },
  {
   "cell_type": "code",
   "execution_count": null,
   "metadata": {},
   "outputs": [],
   "source": []
  },
  {
   "cell_type": "code",
   "execution_count": 48,
   "metadata": {},
   "outputs": [
    {
     "ename": "NameError",
     "evalue": "name 'read_in' is not defined",
     "output_type": "error",
     "traceback": [
      "\u001b[0;31m---------------------------------------------------------------------------\u001b[0m",
      "\u001b[0;31mNameError\u001b[0m                                 Traceback (most recent call last)",
      "Cell \u001b[0;32mIn [48], line 2\u001b[0m\n\u001b[1;32m      1\u001b[0m \u001b[39m#test_list = read_in(\"/Users/Madara/Desktop/train/\")\u001b[39;00m\n\u001b[0;32m----> 2\u001b[0m test_list \u001b[39m=\u001b[39m read_in(\u001b[39m\"\u001b[39m\u001b[39m/mnt/c/Prayash/coding/nlp/train/\u001b[39m\u001b[39m\"\u001b[39m)\n\u001b[1;32m      3\u001b[0m \u001b[39mprint\u001b[39m(\u001b[39mlen\u001b[39m(test_list))\n\u001b[1;32m      4\u001b[0m \u001b[39mprint\u001b[39m(test_list[\u001b[39m0\u001b[39m])\n",
      "\u001b[0;31mNameError\u001b[0m: name 'read_in' is not defined"
     ]
    }
   ],
   "source": []
  },
  {
   "cell_type": "code",
   "execution_count": null,
   "metadata": {},
   "outputs": [],
   "source": []
  },
  {
   "cell_type": "code",
   "execution_count": null,
   "metadata": {},
   "outputs": [],
   "source": []
  }
 ],
 "metadata": {
  "kernelspec": {
   "display_name": "Python 3 (ipykernel)",
   "language": "python",
   "name": "python3"
  },
  "language_info": {
   "codemirror_mode": {
    "name": "ipython",
    "version": 3
   },
   "file_extension": ".py",
   "mimetype": "text/x-python",
   "name": "python",
   "nbconvert_exporter": "python",
   "pygments_lexer": "ipython3",
   "version": "3.10.6"
  },
  "orig_nbformat": 4,
  "vscode": {
   "interpreter": {
    "hash": "db50fad864a03468a9c460cabe531559ec7925353e6e14be2127fe1d88d719ec"
   }
  }
 },
 "nbformat": 4,
 "nbformat_minor": 2
}
