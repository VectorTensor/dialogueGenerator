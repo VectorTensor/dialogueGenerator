{
 "cells": [
  {
   "cell_type": "code",
   "execution_count": 1,
   "metadata": {},
   "outputs": [],
   "source": [
    "import torch\n",
    "import torch.nn as nn\n",
    "from torch import optim\n",
    "import torch.nn.functional as F\n",
    "from tqdm import tqdm , tqdm_notebook, notebook\n",
    "from torch.nn.utils.rnn import pack_padded_sequence, pad_packed_sequence\n",
    "from torch.utils.data import DataLoader , Dataset"
   ]
  },
  {
   "cell_type": "code",
   "execution_count": 2,
   "metadata": {},
   "outputs": [],
   "source": [
    "PAD_token = 0 \n",
    "SOS_token = 1\n",
    "EOS_token = 2\n"
   ]
  },
  {
   "cell_type": "code",
   "execution_count": 3,
   "metadata": {},
   "outputs": [],
   "source": [
    "# file read path\n",
    "\n",
    "import os\n",
    "import codecs\n",
    "\n",
    "def read_in(folder):\n",
    "    files = os.listdir(folder)\n",
    "    a_list = []\n",
    "    for a_file in files:\n",
    "        if not a_file.startswith(\".\"):\n",
    "            if a_file == \"dialogues_train.txt\":\n",
    "                f = codecs.open(folder + a_file, \"r\", encoding = \"ISO-8859-1\", errors = \"ignore\")\n",
    "                a_list.append(f.read())\n",
    "                f.close()\n",
    "    return a_list"
   ]
  },
  {
   "cell_type": "code",
   "execution_count": 4,
   "metadata": {},
   "outputs": [],
   "source": [
    "#test_list = read_in(\"/Users/Madara/Desktop/train/\")\n",
    "test_list = read_in(\"/mnt/c/Prayash/coding/nlp/train/\")\n"
   ]
  },
  {
   "cell_type": "code",
   "execution_count": 5,
   "metadata": {},
   "outputs": [
    {
     "name": "stdout",
     "output_type": "stream",
     "text": [
      "Say , Jim , how about going for a few beers after dinner ?\n",
      "You know that is tempting but is really not good for our fitness .\n",
      "What do you mean ? It will help us to relax .\n",
      "Do you really think so ? I don't . It will just make us fat and act silly . Remember last time ?\n",
      "I guess you are right.But what shall we do ? I don't feel like sitting at home .\n"
     ]
    }
   ],
   "source": [
    "#text splitting\n",
    "new_test_list = [word for word in test_list[0].split(\" __eou__ \")]\n",
    "\n",
    "for index in range(0, 5):\n",
    "    print(new_test_list[index])\n",
    "\n"
   ]
  },
  {
   "cell_type": "code",
   "execution_count": 6,
   "metadata": {},
   "outputs": [
    {
     "name": "stderr",
     "output_type": "stream",
     "text": [
      "[nltk_data] Downloading package punkt to /home/prayash/nltk_data...\n",
      "[nltk_data]   Package punkt is already up-to-date!\n"
     ]
    },
    {
     "data": {
      "text/plain": [
       "True"
      ]
     },
     "execution_count": 6,
     "metadata": {},
     "output_type": "execute_result"
    }
   ],
   "source": [
    "#extract features\n",
    "import nltk\n",
    "from nltk import word_tokenize\n",
    "nltk.download('punkt')\n"
   ]
  },
  {
   "cell_type": "code",
   "execution_count": 7,
   "metadata": {},
   "outputs": [],
   "source": [
    "\n",
    "\n",
    "\n",
    "features = {}\n",
    "word_index = 0\n",
    "    \n",
    "word_list = [word for text in new_test_list for word in word_tokenize(text.lower()) if word.isalpha()]\n",
    "for word in word_list:\n",
    "    if word in features:\n",
    "        pass\n",
    "    else:\n",
    "       word_index += 1\n",
    "       features[word] = word_index \n",
    "   \n",
    "\n",
    "\n",
    "\n"
   ]
  },
  {
   "cell_type": "code",
   "execution_count": 8,
   "metadata": {},
   "outputs": [],
   "source": [
    "len(features)\n",
    "features[\"PAD\"] = len(features)  +1\n",
    "features[\"SOS\"] = len(features) + 1\n",
    "features[\"EOS\"] = len(features) + 1\n",
    "vocab_size = len(features)"
   ]
  },
  {
   "cell_type": "code",
   "execution_count": 9,
   "metadata": {},
   "outputs": [],
   "source": [
    "class DialogueData(Dataset):\n",
    "    def __init__(self, data):\n",
    "        A = [ dialogue for dialogue in data if (data.index(dialogue) % 2 ==0 )]\n",
    "        B = [ dialogue for dialogue in data if (data.index(dialogue) % 2 != 0 )]\n",
    "        tokentextA=[]\n",
    "        tokentextB = []\n",
    "        for text in A:\n",
    "            wordA = [word for word in word_tokenize(text.lower()) if word.isalpha() ]\n",
    "            if len(wordA) <=50:\n",
    "\n",
    "                tokentextA.append(wordA)\n",
    "        \n",
    "        for text in B:\n",
    "            wordB = [word for word in word_tokenize(text.lower()) if word.isalpha() ]\n",
    "            if len(wordB) <= 50 :\n",
    "\n",
    "                tokentextB.append(wordB)\n",
    "\n",
    "        # max no of token in a sequence\n",
    "        self.maxlenA = len(max(tokentextA, key = len))\n",
    "        self.maxlenB  =len (max(tokentextB, key=len))\n",
    "        self.maxA = max(tokentextA,key = len)\n",
    "        self.padA = lambda x: x +(self.maxlenA- len(x))* [features[\"PAD\"]]\n",
    "        self.padB = lambda x: x +(self.maxlenB- len(x))* [features[\"PAD\"]]\n",
    "        self.encode = lambda x: [features[token] for token in x ]\n",
    "\n",
    "        sequencesA = [self.encode(sequence) for sequence in tokentextA ]\n",
    "        self.sequencesA = [self.padA(sequence) for sequence in sequencesA]\n",
    "        sequencesB = [self.encode(sequence) for sequence in tokentextB ]\n",
    "        self.sequencesB = [self.padB(sequence) for sequence in sequencesB]\n",
    "\n",
    "\n",
    "    def __getitem__(self, i ):\n",
    "        return self.sequencesA[i], self.sequencesB[i]\n",
    "\n",
    "    \n",
    "    def __len__(self):\n",
    "        return len(self.sequencesA)\n",
    "        \n",
    "\n",
    "\n",
    "\n",
    "\n",
    "        \n",
    "\n",
    "\n",
    "\n",
    "\n",
    "\n",
    "        \n",
    "\n",
    "\n",
    "\n",
    "\n",
    "        \n",
    "\n",
    "\n",
    "\n",
    "\n",
    "\n",
    "\n",
    "\n",
    "\n",
    "    "
   ]
  },
  {
   "cell_type": "code",
   "execution_count": 10,
   "metadata": {},
   "outputs": [],
   "source": [
    "xhat = ['are','you','fine']\n",
    "pader = lambda x: x +(50- len(x))* [features[\"PAD\"]]\n",
    "stuffs = lambda x: [features[token] for token in x ]\n",
    "\n",
    "seq = stuffs(xhat)\n",
    "seq = pader(seq)\n",
    "\n",
    "\n"
   ]
  },
  {
   "cell_type": "code",
   "execution_count": 11,
   "metadata": {},
   "outputs": [],
   "source": [
    "dataset = DialogueData(new_test_list)\n"
   ]
  },
  {
   "cell_type": "code",
   "execution_count": 12,
   "metadata": {},
   "outputs": [],
   "source": [
    "def collate(batch):\n",
    "    inputs = torch.LongTensor([item[0] for item in batch])\n",
    "    targets = torch.LongTensor([item[1] for item in batch])\n",
    "\n",
    "    return inputs, targets\n",
    "\n",
    "batch_size = 1000\n",
    "# for eval \n",
    "#batch_size = 1\n",
    "train_loader = DataLoader(dataset, batch_size= batch_size, collate_fn = collate)\n",
    " "
   ]
  },
  {
   "cell_type": "code",
   "execution_count": 13,
   "metadata": {},
   "outputs": [
    {
     "data": {
      "text/plain": [
       "torch.Size([50])"
      ]
     },
     "execution_count": 13,
     "metadata": {},
     "output_type": "execute_result"
    }
   ],
   "source": [
    "torch.tensor(dataset.sequencesA[0]).shape\n",
    "torch.tensor(dataset.sequencesB[0]).shape\n"
   ]
  },
  {
   "cell_type": "code",
   "execution_count": 14,
   "metadata": {},
   "outputs": [],
   "source": [
    "\n",
    "\n",
    "class EncoderRNN(nn.Module):\n",
    "    def __init__(self,hidden_size,vocab_size, n_layers=1,dropout = 0):\n",
    "        super(EncoderRNN, self).__init__()\n",
    "        self.n_layers = n_layers\n",
    "        self.hidden_size = hidden_size\n",
    "        self.embedding = nn.Embedding(vocab_size, hidden_size)\n",
    "        self.gru = nn.GRU(hidden_size, hidden_size, n_layers, dropout =(0 if n_layers ==1 else dropout),batch_first= True, bidirectional= True)\n",
    "    \n",
    "    def forward(self, input_seq, input_length , hidden=None):\n",
    "        \n",
    "        embedded = self.embedding(input_seq)\n",
    "       # packed = pack_padded_sequence(embedded, input_length) #for faster computation\n",
    "        outputs, hidden = self.gru(embedded, hidden)\n",
    "\n",
    "        \n",
    "        outputs = outputs[:,:, :self.hidden_size] + outputs[:,:,self.hidden_size:] # bidirectional gru so  adding both halves \n",
    "#for eval\n",
    "      #  outputs = outputs[:, :self.hidden_size] + outputs[:,self.hidden_size:] \n",
    "        return outputs, hidden\n",
    "\n",
    "    "
   ]
  },
  {
   "cell_type": "code",
   "execution_count": 15,
   "metadata": {},
   "outputs": [],
   "source": [
    "class Attn(nn.Module):\n",
    "    def __init__(self, hidden_size,sequence_length):\n",
    "        super(Attn,self).__init__()\n",
    "        self.hidden_size = hidden_size\n",
    "        self.w1 = nn.Linear(sequence_length* hidden_size, hidden_size)\n",
    "        self.w2 = nn.Linear(hidden_size, hidden_size)\n",
    "        self.V = nn.Linear(hidden_size,sequence_length)\n",
    "        \n",
    "\n",
    "    \n",
    "\n",
    "    def forward(self, encoder_output, decoder_state,batch_size):\n",
    "        encoder_output = encoder_output.reshape(batch_size,-1)\n",
    "        \n",
    "        FC = self.w1(encoder_output) + self.w2(decoder_state)\n",
    "        tan = torch.tanh(FC)\n",
    "        fc2 = self.V(tan)\n",
    "        attention_weights = F.softmax(fc2)\n",
    "        \n",
    "        return attention_weights\n",
    "\n",
    "    \n",
    "\n",
    "\n"
   ]
  },
  {
   "cell_type": "code",
   "execution_count": null,
   "metadata": {},
   "outputs": [],
   "source": []
  },
  {
   "cell_type": "code",
   "execution_count": 16,
   "metadata": {},
   "outputs": [],
   "source": [
    "class DecoderRNN(nn.Module):\n",
    "    def __init__(self, hidden_size,output_size, vocab_size, n_layers = 1,dropout=0.1):\n",
    "        super(DecoderRNN , self).__init__()\n",
    "        self.hidden_size = hidden_size\n",
    "        self.output_size= output_size\n",
    "        self.n_layers = n_layers\n",
    "        self.dropout = dropout   #vocab_size == output_size\n",
    "        self.vocab_size = vocab_size\n",
    "\n",
    "        self.embedding = nn.Embedding(vocab_size, hidden_size)\n",
    "        self.embedding_dropout = nn.Dropout(dropout)\n",
    "        self.gru = nn.GRU(hidden_size + dataset.maxlenA, hidden_size, n_layers, dropout = (0 if n_layers==1 else dropout),batch_first = True)\n",
    "        \n",
    "        self.out = nn.Linear(hidden_size, output_size)\n",
    "\n",
    "    def forward(self, input_step, context,last_hidden):\n",
    "        embedded = self.embedding(input_step)\n",
    "        embedded = self.embedding_dropout(embedded)\n",
    "        \n",
    "        x= torch.cat((embedded, context),dim =1 )\n",
    "     \n",
    "        x= x.unsqueeze(1)\n",
    "        rnn_output, hidden = self.gru(x, last_hidden)\n",
    "        rnn_output = rnn_output.squeeze(0)\n",
    "        output = self.out(rnn_output)\n",
    "       # print(\"output\", output.shape)\n",
    "        #output = F.softmax(output, dim =2 )\n",
    "        return output, hidden\n",
    "        \n",
    "        \n",
    "        \n",
    "\n",
    "\n",
    "        \n"
   ]
  },
  {
   "cell_type": "code",
   "execution_count": null,
   "metadata": {},
   "outputs": [],
   "source": []
  },
  {
   "cell_type": "code",
   "execution_count": 17,
   "metadata": {},
   "outputs": [],
   "source": [
    "# USE cross entropy loss\n",
    "#The model returns tensor from a softmax operation The index with max value is the required ans \n",
    "# the ans is the key value for the dictonary which has 1-> hi , 2-> bye key value pairs for words and numbers\n",
    "# make both index2string and string2index dictionary\n",
    "# hidden_size,vocab_size,sequence_length, n_layers=1,dropout = 0"
   ]
  },
  {
   "cell_type": "code",
   "execution_count": null,
   "metadata": {},
   "outputs": [],
   "source": []
  },
  {
   "cell_type": "code",
   "execution_count": 18,
   "metadata": {},
   "outputs": [],
   "source": [
    "criterion = nn.CrossEntropyLoss()\n",
    "hidden_size = 100\n",
    "sequence_length = dataset.maxlenA\n",
    "n_layers = 1\n",
    "dropout =0.5\n",
    "\n",
    "sequence_length_B = dataset.maxlenB\n",
    "device = torch.device('cuda' if torch.cuda.is_available() else  'cpu')\n"
   ]
  },
  {
   "cell_type": "code",
   "execution_count": 19,
   "metadata": {},
   "outputs": [],
   "source": [
    "Encode = EncoderRNN(hidden_size, vocab_size, n_layers, dropout)\n",
    "Attention = Attn(hidden_size,sequence_length)\n",
    "Decode = DecoderRNN(hidden_size,vocab_size, vocab_size, n_layers, dropout)\n",
    "\n",
    "def init_hidden():\n",
    "    return torch.randn(n_layers*2, batch_size, hidden_size).to(device)\n",
    "\n",
    "def init_hidden_dec():\n",
    "    return torch.randn(n_layers, batch_size, hidden_size).to(device)\n",
    "\n",
    "encoder_optim = optim.Adam([p for p in Encode.parameters() if p.requires_grad],lr=0.01)\n",
    "atten_optim = optim.Adam([p for p in Attention.parameters() if p.requires_grad],lr=0.01)\n",
    "decoder_optim = optim.Adam([p for p in Decode.parameters() if p.requires_grad],lr=0.01)\n",
    "\n"
   ]
  },
  {
   "cell_type": "code",
   "execution_count": 36,
   "metadata": {},
   "outputs": [],
   "source": [
    "Encode=torch.load('encoder.pth')\n",
    "Decode=torch.load('decoder.pth')\n",
    "Attention=torch.load('attention.pth')"
   ]
  },
  {
   "cell_type": "code",
   "execution_count": 37,
   "metadata": {},
   "outputs": [
    {
     "name": "stderr",
     "output_type": "stream",
     "text": [
      "\n",
      "\n",
      "\n",
      "\n",
      "\n",
      "\u001b[A\u001b[A\u001b[A\u001b[A\u001b[A/tmp/ipykernel_210/1008671452.py:18: UserWarning: Implicit dimension choice for softmax has been deprecated. Change the call to include dim=X as an argument.\n",
      "  attention_weights = F.softmax(fc2)\n"
     ]
    },
    {
     "name": "stdout",
     "output_type": "stream",
     "text": [
      "tensor(1.6980, grad_fn=<DivBackward1>)\n"
     ]
    },
    {
     "name": "stderr",
     "output_type": "stream",
     "text": [
      "\n",
      "\n",
      "\n",
      "\n",
      "\n",
      "\u001b[A\u001b[A\u001b[A\u001b[A\u001b[A\n",
      "\n",
      "\n",
      "\n",
      "\n",
      "\u001b[A\u001b[A\u001b[A\u001b[A\u001b[A"
     ]
    },
    {
     "name": "stdout",
     "output_type": "stream",
     "text": [
      "tensor(1.4187, grad_fn=<DivBackward1>)\n"
     ]
    },
    {
     "name": "stderr",
     "output_type": "stream",
     "text": [
      "\n",
      "\n",
      "\n",
      "\n",
      "\n",
      "\u001b[A\u001b[A\u001b[A\u001b[A\u001b[A\n",
      "\n",
      "\n",
      "\n",
      "\n",
      "\u001b[A\u001b[A\u001b[A\u001b[A\u001b[A"
     ]
    },
    {
     "name": "stdout",
     "output_type": "stream",
     "text": [
      "tensor(1.5070, grad_fn=<DivBackward1>)\n"
     ]
    },
    {
     "name": "stderr",
     "output_type": "stream",
     "text": [
      "\n",
      "\n",
      "\n",
      "\n",
      "\n",
      "\u001b[A\u001b[A\u001b[A\u001b[A\u001b[A\n",
      "\n",
      "\n",
      "\n",
      "\n",
      "\u001b[A\u001b[A\u001b[A\u001b[A\u001b[A"
     ]
    },
    {
     "name": "stdout",
     "output_type": "stream",
     "text": [
      "tensor(1.7352, grad_fn=<DivBackward1>)\n"
     ]
    },
    {
     "name": "stderr",
     "output_type": "stream",
     "text": [
      "\n",
      "\n",
      "\n",
      "\n",
      "\n",
      "\u001b[A\u001b[A\u001b[A\u001b[A\u001b[A\n",
      "\n",
      "\n",
      "\n",
      "\n",
      "\u001b[A\u001b[A\u001b[A\u001b[A\u001b[A"
     ]
    },
    {
     "name": "stdout",
     "output_type": "stream",
     "text": [
      "tensor(1.6659, grad_fn=<DivBackward1>)\n"
     ]
    },
    {
     "name": "stderr",
     "output_type": "stream",
     "text": [
      "\n",
      "\n",
      "\n",
      "\n",
      "\n",
      "\u001b[A\u001b[A\u001b[A\u001b[A\u001b[A\n",
      "\n",
      "\n",
      "\n",
      "\n",
      "\u001b[A\u001b[A\u001b[A\u001b[A\u001b[A"
     ]
    },
    {
     "name": "stdout",
     "output_type": "stream",
     "text": [
      "tensor(1.5335, grad_fn=<DivBackward1>)\n"
     ]
    },
    {
     "name": "stderr",
     "output_type": "stream",
     "text": [
      "\n",
      "\n",
      "\n",
      "\n",
      "\n",
      "\u001b[A\u001b[A\u001b[A\u001b[A\u001b[A\n",
      "\n",
      "\n",
      "\n",
      "\n",
      "\u001b[A\u001b[A\u001b[A\u001b[A\u001b[A"
     ]
    },
    {
     "name": "stdout",
     "output_type": "stream",
     "text": [
      "tensor(1.6955, grad_fn=<DivBackward1>)\n"
     ]
    },
    {
     "name": "stderr",
     "output_type": "stream",
     "text": [
      "\n",
      "\n",
      "\n",
      "\n",
      "\n",
      "\u001b[A\u001b[A\u001b[A\u001b[A\u001b[A\n",
      "\n",
      "\n",
      "\n",
      "\n",
      "\u001b[A\u001b[A\u001b[A\u001b[A\u001b[A"
     ]
    },
    {
     "name": "stdout",
     "output_type": "stream",
     "text": [
      "tensor(1.4595, grad_fn=<DivBackward1>)\n"
     ]
    },
    {
     "name": "stderr",
     "output_type": "stream",
     "text": [
      "\n",
      "\n",
      "\n",
      "\n",
      "\n",
      "\u001b[A\u001b[A\u001b[A\u001b[A\u001b[A\n",
      "\n",
      "\n",
      "\n",
      "\n",
      "\u001b[A\u001b[A\u001b[A\u001b[A\u001b[A"
     ]
    },
    {
     "name": "stdout",
     "output_type": "stream",
     "text": [
      "tensor(1.6027, grad_fn=<DivBackward1>)\n"
     ]
    },
    {
     "name": "stderr",
     "output_type": "stream",
     "text": [
      "\n",
      "\n",
      "\n",
      "\n",
      "\n",
      "\u001b[A\u001b[A\u001b[A\u001b[A\u001b[A\n",
      "\n",
      "\n",
      "\n",
      "\n",
      "\u001b[A\u001b[A\u001b[A\u001b[A\u001b[A"
     ]
    },
    {
     "name": "stdout",
     "output_type": "stream",
     "text": [
      "tensor(1.7443, grad_fn=<DivBackward1>)\n"
     ]
    },
    {
     "name": "stderr",
     "output_type": "stream",
     "text": [
      "\n",
      "\n",
      "\n",
      "\n",
      "\n",
      "\u001b[A\u001b[A\u001b[A\u001b[A\u001b[A\n",
      "\n",
      "\n",
      "\n",
      "\n",
      "\u001b[A\u001b[A\u001b[A\u001b[A\u001b[A"
     ]
    },
    {
     "name": "stdout",
     "output_type": "stream",
     "text": [
      "tensor(1.5369, grad_fn=<DivBackward1>)\n"
     ]
    },
    {
     "name": "stderr",
     "output_type": "stream",
     "text": [
      "\n",
      "\n",
      "\n",
      "\n",
      "\n",
      "\u001b[A\u001b[A\u001b[A\u001b[A\u001b[A\n",
      "\n",
      "\n",
      "\n",
      "\n",
      "\u001b[A\u001b[A\u001b[A\u001b[A\u001b[A"
     ]
    },
    {
     "name": "stdout",
     "output_type": "stream",
     "text": [
      "tensor(1.3175, grad_fn=<DivBackward1>)\n"
     ]
    },
    {
     "name": "stderr",
     "output_type": "stream",
     "text": [
      "\n",
      "\n",
      "\n",
      "\n",
      "\n",
      "\u001b[A\u001b[A\u001b[A\u001b[A\u001b[A\n",
      "\n",
      "\n",
      "\n",
      "\n",
      "\u001b[A\u001b[A\u001b[A\u001b[A\u001b[A"
     ]
    },
    {
     "name": "stdout",
     "output_type": "stream",
     "text": [
      "tensor(1.6031, grad_fn=<DivBackward1>)\n"
     ]
    },
    {
     "name": "stderr",
     "output_type": "stream",
     "text": [
      "\n",
      "\n",
      "\n",
      "\n",
      "\n",
      "\u001b[A\u001b[A\u001b[A\u001b[A\u001b[A\n",
      "\n",
      "\n",
      "\n",
      "\n",
      "\u001b[A\u001b[A\u001b[A\u001b[A\u001b[A"
     ]
    },
    {
     "name": "stdout",
     "output_type": "stream",
     "text": [
      "tensor(1.5770, grad_fn=<DivBackward1>)\n"
     ]
    },
    {
     "name": "stderr",
     "output_type": "stream",
     "text": [
      "\n",
      "\n",
      "\n",
      "\n",
      "\n",
      "\u001b[A\u001b[A\u001b[A\u001b[A\u001b[A\n",
      "\n",
      "\n",
      "\n",
      "\n",
      "\u001b[A\u001b[A\u001b[A\u001b[A\u001b[A"
     ]
    },
    {
     "name": "stdout",
     "output_type": "stream",
     "text": [
      "tensor(1.6489, grad_fn=<DivBackward1>)\n"
     ]
    },
    {
     "name": "stderr",
     "output_type": "stream",
     "text": [
      "\n",
      "\n",
      "\n",
      "\n",
      "\n",
      "\u001b[A\u001b[A\u001b[A\u001b[A\u001b[A\n",
      "\n",
      "\n",
      "\n",
      "\n",
      "\u001b[A\u001b[A\u001b[A\u001b[A\u001b[A"
     ]
    },
    {
     "name": "stdout",
     "output_type": "stream",
     "text": [
      "tensor(1.3313, grad_fn=<DivBackward1>)\n"
     ]
    },
    {
     "name": "stderr",
     "output_type": "stream",
     "text": [
      "\n",
      "\n",
      "\n",
      "\n",
      "\n",
      "\u001b[A\u001b[A\u001b[A\u001b[A\u001b[A\n",
      "\n",
      "\n",
      "\n",
      "\n",
      "\u001b[A\u001b[A\u001b[A\u001b[A\u001b[A"
     ]
    },
    {
     "name": "stdout",
     "output_type": "stream",
     "text": [
      "tensor(1.3836, grad_fn=<DivBackward1>)\n"
     ]
    },
    {
     "name": "stderr",
     "output_type": "stream",
     "text": [
      "\n",
      "\n",
      "\n",
      "\n",
      "\n",
      "\u001b[A\u001b[A\u001b[A\u001b[A\u001b[A\n",
      "\n",
      "\n",
      "\n",
      "\n",
      "\u001b[A\u001b[A\u001b[A\u001b[A\u001b[A"
     ]
    },
    {
     "name": "stdout",
     "output_type": "stream",
     "text": [
      "tensor(1.3528, grad_fn=<DivBackward1>)\n"
     ]
    },
    {
     "name": "stderr",
     "output_type": "stream",
     "text": [
      "\n",
      "\n",
      "\n",
      "\n",
      "\n",
      "\u001b[A\u001b[A\u001b[A\u001b[A\u001b[A\n",
      "\n",
      "\n",
      "\n",
      "\n",
      "\u001b[A\u001b[A\u001b[A\u001b[A\u001b[A"
     ]
    },
    {
     "name": "stdout",
     "output_type": "stream",
     "text": [
      "tensor(1.4397, grad_fn=<DivBackward1>)\n"
     ]
    },
    {
     "name": "stderr",
     "output_type": "stream",
     "text": [
      "\n",
      "\n",
      "\n",
      "\n",
      "\n",
      "\u001b[A\u001b[A\u001b[A\u001b[A\u001b[A\n",
      "\n",
      "\n",
      "\n",
      "\n",
      "\u001b[A\u001b[A\u001b[A\u001b[A\u001b[A"
     ]
    },
    {
     "name": "stdout",
     "output_type": "stream",
     "text": [
      "tensor(1.1998, grad_fn=<DivBackward1>)\n"
     ]
    },
    {
     "name": "stderr",
     "output_type": "stream",
     "text": [
      "\n",
      "\n",
      "\n",
      "\n",
      "\n",
      "\u001b[A\u001b[A\u001b[A\u001b[A\u001b[A\n",
      "\n",
      "\n",
      "\n",
      "\n",
      "\u001b[A\u001b[A\u001b[A\u001b[A\u001b[A"
     ]
    },
    {
     "name": "stdout",
     "output_type": "stream",
     "text": [
      "tensor(1.4953, grad_fn=<DivBackward1>)\n"
     ]
    },
    {
     "name": "stderr",
     "output_type": "stream",
     "text": [
      "\n",
      "\n",
      "\n",
      "\n",
      "\n",
      "\u001b[A\u001b[A\u001b[A\u001b[A\u001b[A\n",
      "\n",
      "\n",
      "\n",
      "\n",
      "\u001b[A\u001b[A\u001b[A\u001b[A\u001b[A"
     ]
    },
    {
     "name": "stdout",
     "output_type": "stream",
     "text": [
      "tensor(1.2718, grad_fn=<DivBackward1>)\n"
     ]
    },
    {
     "name": "stderr",
     "output_type": "stream",
     "text": [
      "\n",
      "\n",
      "\n",
      "\n",
      "\n",
      "\u001b[A\u001b[A\u001b[A\u001b[A\u001b[A\n",
      "\n",
      "\n",
      "\n",
      "\n",
      "\u001b[A\u001b[A\u001b[A\u001b[A\u001b[A"
     ]
    },
    {
     "name": "stdout",
     "output_type": "stream",
     "text": [
      "tensor(1.4108, grad_fn=<DivBackward1>)\n"
     ]
    },
    {
     "name": "stderr",
     "output_type": "stream",
     "text": [
      "\n",
      "\n",
      "\n",
      "\n",
      "\n",
      "\u001b[A\u001b[A\u001b[A\u001b[A\u001b[A\n",
      "\n",
      "\n",
      "\n",
      "\n",
      "\u001b[A\u001b[A\u001b[A\u001b[A\u001b[A"
     ]
    },
    {
     "name": "stdout",
     "output_type": "stream",
     "text": [
      "tensor(1.4978, grad_fn=<DivBackward1>)\n"
     ]
    },
    {
     "name": "stderr",
     "output_type": "stream",
     "text": [
      "\n",
      "\n",
      "\n",
      "\n",
      "\n",
      "\u001b[A\u001b[A\u001b[A\u001b[A\u001b[A\n",
      "\n",
      "\n",
      "\n",
      "\n",
      "\u001b[A\u001b[A\u001b[A\u001b[A\u001b[A"
     ]
    },
    {
     "name": "stdout",
     "output_type": "stream",
     "text": [
      "tensor(1.2174, grad_fn=<DivBackward1>)\n"
     ]
    },
    {
     "name": "stderr",
     "output_type": "stream",
     "text": [
      "\n",
      "\n",
      "\n",
      "\n",
      "\n",
      "\u001b[A\u001b[A\u001b[A\u001b[A\u001b[A\n",
      "\n",
      "\n",
      "\n",
      "\n",
      "\u001b[A\u001b[A\u001b[A\u001b[A\u001b[A"
     ]
    },
    {
     "name": "stdout",
     "output_type": "stream",
     "text": [
      "tensor(1.4425, grad_fn=<DivBackward1>)\n"
     ]
    },
    {
     "name": "stderr",
     "output_type": "stream",
     "text": [
      "\n",
      "\n",
      "\n",
      "\n",
      "\n",
      "\u001b[A\u001b[A\u001b[A\u001b[A\u001b[A\n",
      "\n",
      "\n",
      "\n",
      "\n",
      "\u001b[A\u001b[A\u001b[A\u001b[A\u001b[A"
     ]
    },
    {
     "name": "stdout",
     "output_type": "stream",
     "text": [
      "tensor(1.1746, grad_fn=<DivBackward1>)\n"
     ]
    },
    {
     "name": "stderr",
     "output_type": "stream",
     "text": [
      "\n",
      "\n",
      "\n",
      "\n",
      "\n",
      "\u001b[A\u001b[A\u001b[A\u001b[A\u001b[A\n",
      "\n",
      "\n",
      "\n",
      "\n",
      "\u001b[A\u001b[A\u001b[A\u001b[A\u001b[A"
     ]
    },
    {
     "name": "stdout",
     "output_type": "stream",
     "text": [
      "tensor(1.4726, grad_fn=<DivBackward1>)\n"
     ]
    },
    {
     "name": "stderr",
     "output_type": "stream",
     "text": [
      "\n",
      "\n",
      "\n",
      "\n",
      "\n",
      "\u001b[A\u001b[A\u001b[A\u001b[A\u001b[A\n",
      "\n",
      "\n",
      "\n",
      "\n",
      "\u001b[A\u001b[A\u001b[A\u001b[A\u001b[A"
     ]
    },
    {
     "name": "stdout",
     "output_type": "stream",
     "text": [
      "tensor(1.4335, grad_fn=<DivBackward1>)\n"
     ]
    },
    {
     "name": "stderr",
     "output_type": "stream",
     "text": [
      "\n",
      "\n",
      "\n",
      "\n",
      "\n",
      "\u001b[A\u001b[A\u001b[A\u001b[A\u001b[A\n",
      "\n",
      "\n",
      "\n",
      "\n",
      "\u001b[A\u001b[A\u001b[A\u001b[A\u001b[A"
     ]
    },
    {
     "name": "stdout",
     "output_type": "stream",
     "text": [
      "tensor(1.4133, grad_fn=<DivBackward1>)\n"
     ]
    },
    {
     "name": "stderr",
     "output_type": "stream",
     "text": [
      "\n",
      "\n",
      "\n",
      "\n",
      "\n",
      "\u001b[A\u001b[A\u001b[A\u001b[A\u001b[A\n",
      "\n",
      "\n",
      "\n",
      "\n",
      "\u001b[A\u001b[A\u001b[A\u001b[A\u001b[A"
     ]
    },
    {
     "name": "stdout",
     "output_type": "stream",
     "text": [
      "tensor(1.4089, grad_fn=<DivBackward1>)\n"
     ]
    },
    {
     "name": "stderr",
     "output_type": "stream",
     "text": [
      "\n",
      "\n",
      "\n",
      "\n",
      "\n",
      "\u001b[A\u001b[A\u001b[A\u001b[A\u001b[A\n",
      "\n",
      "\n",
      "\n",
      "\n",
      "\u001b[A\u001b[A\u001b[A\u001b[A\u001b[A"
     ]
    },
    {
     "name": "stdout",
     "output_type": "stream",
     "text": [
      "tensor(1.3990, grad_fn=<DivBackward1>)\n"
     ]
    },
    {
     "name": "stderr",
     "output_type": "stream",
     "text": [
      "\n",
      "\n",
      "\n",
      "\n",
      "\n",
      "\u001b[A\u001b[A\u001b[A\u001b[A\u001b[A\n",
      "\n",
      "\n",
      "\n",
      "\n",
      "\u001b[A\u001b[A\u001b[A\u001b[A\u001b[A"
     ]
    },
    {
     "name": "stdout",
     "output_type": "stream",
     "text": [
      "tensor(1.3671, grad_fn=<DivBackward1>)\n"
     ]
    },
    {
     "name": "stderr",
     "output_type": "stream",
     "text": [
      "\n",
      "\n",
      "\n",
      "\n",
      "\n",
      "\u001b[A\u001b[A\u001b[A\u001b[A\u001b[A\n",
      "\n",
      "\n",
      "\n",
      "\n",
      "\u001b[A\u001b[A\u001b[A\u001b[A\u001b[A"
     ]
    },
    {
     "name": "stdout",
     "output_type": "stream",
     "text": [
      "tensor(1.2687, grad_fn=<DivBackward1>)\n"
     ]
    },
    {
     "name": "stderr",
     "output_type": "stream",
     "text": [
      "\n",
      "\n",
      "\n",
      "\n",
      "\n",
      "\u001b[A\u001b[A\u001b[A\u001b[A\u001b[A\n",
      "\n",
      "\n",
      "\n",
      "\n",
      "\u001b[A\u001b[A\u001b[A\u001b[A\u001b[A"
     ]
    },
    {
     "name": "stdout",
     "output_type": "stream",
     "text": [
      "tensor(1.2567, grad_fn=<DivBackward1>)\n"
     ]
    },
    {
     "name": "stderr",
     "output_type": "stream",
     "text": [
      "\n",
      "\n",
      "\n",
      "\n",
      "\n",
      "\u001b[A\u001b[A\u001b[A\u001b[A\u001b[A\n",
      "\n",
      "\n",
      "\n",
      "\n",
      "\u001b[A\u001b[A\u001b[A\u001b[A\u001b[A"
     ]
    },
    {
     "name": "stdout",
     "output_type": "stream",
     "text": [
      "tensor(1.4075, grad_fn=<DivBackward1>)\n"
     ]
    },
    {
     "name": "stderr",
     "output_type": "stream",
     "text": [
      "\n",
      "\n",
      "\n",
      "\n",
      "\n",
      "\u001b[A\u001b[A\u001b[A\u001b[A\u001b[A\n",
      "\n",
      "\n",
      "\n",
      "\n",
      "\u001b[A\u001b[A\u001b[A\u001b[A\u001b[A"
     ]
    },
    {
     "name": "stdout",
     "output_type": "stream",
     "text": [
      "tensor(1.3019, grad_fn=<DivBackward1>)\n"
     ]
    },
    {
     "name": "stderr",
     "output_type": "stream",
     "text": [
      "\n",
      "\n",
      "\n",
      "\n",
      "\n",
      "\u001b[A\u001b[A\u001b[A\u001b[A\u001b[A\n",
      "\n",
      "\n",
      "\n",
      "\n",
      "                                                               \n",
      "\n",
      "\n",
      "\n",
      "\u001b[A\u001b[A\u001b[A\u001b[A                                                   \n",
      "\n",
      "\n",
      "\n",
      "\n",
      "\n",
      "\u001b[A\u001b[A\u001b[A\u001b[A\u001b[A\u001b[A                                           \n",
      "\n",
      "\n",
      "\u001b[A\u001b[A\u001b[A                                                      \n",
      "\u001b[A                                                            \n",
      "\n",
      "\u001b[A\u001b[A                                  \n",
      "\n",
      "\n",
      "\n",
      "\n",
      "Loss: 89.697:  97%|█████████▋| 37/38 [4:36:26<00:49, 49.38s/it]\n",
      "\n",
      "\n",
      "\u001b[A\u001b[A\u001b[A\n",
      "\n",
      "\n",
      "\n",
      "\n",
      "\u001b[A\u001b[A\u001b[A\u001b[A\u001b[A\n",
      "\n",
      "\u001b[A\u001b[A\n",
      "\u001b[A\n",
      "\n",
      "\n",
      "\n",
      "\u001b[A\u001b[A\u001b[A\u001b[A"
     ]
    },
    {
     "name": "stdout",
     "output_type": "stream",
     "text": [
      "Epoch #1 \t Train Loss: 92.477068\n"
     ]
    }
   ],
   "source": [
    "Encode.train()\n",
    "Attention.train()\n",
    "Decode.train()\n",
    "train_losses=[]\n",
    "def train():\n",
    "    for epoch in range (1):\n",
    "        progress_bar = tqdm(train_loader)\n",
    "        \n",
    "        losses = []\n",
    "        total = 0 \n",
    "        \n",
    "        past=0\n",
    "        for inputs, target in progress_bar:\n",
    "            lossn=0\n",
    "           # print(inputs == past)\n",
    "           # past = inputs\n",
    "            inputs, target = inputs.to(device) , target.to(device)\n",
    "            Encode.zero_grad()\n",
    "            Attention.zero_grad()\n",
    "            Decode.zero_grad()\n",
    "\n",
    "            \n",
    "            hidden = init_hidden()\n",
    "            if inputs.shape[0]<1000:\n",
    "                break\n",
    "            encoder_output, encoder_hidden = Encode(inputs, sequence_length, hidden)\n",
    "            encoder_hidden = encoder_hidden[0,:,:]+encoder_hidden[1,:,:]\n",
    "            attn_weights = Attention(encoder_output,encoder_hidden,batch_size)# new addition batch_size as argument\n",
    "            attn_weights = attn_weights.unsqueeze(2)\n",
    "           #print(\"attn\" , attn_weights.shape)\n",
    "            \n",
    "            context = torch.sum(attn_weights*encoder_output,dim =2) # context vector\n",
    "            \n",
    "            input_step = SOS_token* torch.ones(batch_size,dtype= torch.long,requires_grad=False)\n",
    "            last_hidden = init_hidden_dec()\n",
    "            sequence_b = sequence_length_B\n",
    "            \n",
    "            n=0\n",
    "           # torch.autograd.set_detect_anomaly(True)\n",
    "           # print(\"sequence_b\",sequence_b)\n",
    "            for i in range(sequence_b):\n",
    "                \n",
    "                check = torch.zeros(batch_size,vocab_size,dtype=torch.float,requires_grad=False)\n",
    "                \n",
    "                index =0\n",
    "                with torch.no_grad():\n",
    "\n",
    "                    for j in target[:,i]:\n",
    "                        check[index, j] = 1.0\n",
    "                        index +=1\n",
    "\n",
    "                output_decoder, decoder_hidden = Decode(input_step, context, last_hidden)\n",
    "                \n",
    "                output_decoder = output_decoder.squeeze(1)\n",
    "               \n",
    "                loss = criterion(output_decoder, check)\n",
    "                #print(loss)\n",
    "                lossn += loss\n",
    "               \n",
    "                if n == 20:\n",
    "\n",
    "                    print(loss)\n",
    "                n+=1\n",
    "                input_step = output_decoder\n",
    "              \n",
    "                _, input_step = input_step.topk(1)\n",
    "            \n",
    "              #  input_step = input_step.squeeze(1)\n",
    "                input_step = input_step.squeeze(1)\n",
    "            \n",
    "\n",
    "                last_hidden = decoder_hidden\n",
    "                last_hidden = last_hidden.squeeze(0)\n",
    "                attn_weights = Attention(encoder_output,last_hidden,batch_size)\n",
    "            \n",
    "                attn_weights = attn_weights.unsqueeze(2)\n",
    "                context = torch.sum(attn_weights*encoder_output,dim = 2) # context vector\n",
    "                last_hidden = last_hidden.unsqueeze(0)\n",
    "            lossn.backward()\n",
    "\n",
    "               \n",
    "           \n",
    "            nn.utils.clip_grad_norm_(Encode.parameters(), 50)\n",
    "            nn.utils.clip_grad_norm_(Attention.parameters(), 50)\n",
    "            nn.utils.clip_grad_norm_(Decode.parameters(),50)\n",
    "\n",
    "            decoder_optim.step()\n",
    "            atten_optim.step()\n",
    "            encoder_optim.step()\n",
    "                \n",
    "                \n",
    "\n",
    " \n",
    "\n",
    "            \n",
    "\n",
    "            progress_bar.set_description(f'Loss: {lossn.item():.3f}')\n",
    "\n",
    "            losses.append(lossn.item())\n",
    "            total +=1 \n",
    "            \n",
    "\n",
    "        epoch_loss = sum(losses)/total\n",
    "        train_losses.append(epoch_loss)\n",
    "\n",
    "\n",
    "        tqdm.write(f'Epoch #{epoch+1} \\t Train Loss: {epoch_loss:3f}')\n",
    "\n",
    "\n",
    "\n",
    "\n",
    "train()\n",
    "            \n",
    "\n",
    "            \n",
    "\n",
    "    "
   ]
  },
  {
   "cell_type": "code",
   "execution_count": 38,
   "metadata": {},
   "outputs": [],
   "source": [
    "torch.save(Encode, 'encoder.pth')\n",
    "torch.save(Decode, 'decoder.pth')\n",
    "torch.save(Attention,'attention.pth')"
   ]
  },
  {
   "cell_type": "code",
   "execution_count": 31,
   "metadata": {},
   "outputs": [],
   "source": [
    "def init_hidden_eval():\n",
    "    return torch.randn(n_layers*2,1, hidden_size).to(device)\n",
    "\n",
    "def init_hidden_dec_eval():\n",
    "    return torch.randn(n_layers,1, hidden_size).to(device)"
   ]
  },
  {
   "cell_type": "code",
   "execution_count": 32,
   "metadata": {},
   "outputs": [],
   "source": [
    "Encode=torch.load('encoder.pth')\n",
    "Decode=torch.load('decoder.pth')\n",
    "Attention=torch.load('attention.pth')"
   ]
  },
  {
   "cell_type": "code",
   "execution_count": 33,
   "metadata": {},
   "outputs": [
    {
     "name": "stdout",
     "output_type": "stream",
     "text": [
      "torch.Size([1, 50, 100])\n"
     ]
    },
    {
     "name": "stderr",
     "output_type": "stream",
     "text": [
      "/tmp/ipykernel_1313/1008671452.py:18: UserWarning: Implicit dimension choice for softmax has been deprecated. Change the call to include dim=X as an argument.\n",
      "  attention_weights = F.softmax(fc2)\n"
     ]
    },
    {
     "ename": "RuntimeError",
     "evalue": "The size of tensor a (50) must match the size of tensor b (100) at non-singleton dimension 2",
     "output_type": "error",
     "traceback": [
      "\u001b[0;31m---------------------------------------------------------------------------\u001b[0m",
      "\u001b[0;31mRuntimeError\u001b[0m                              Traceback (most recent call last)",
      "Cell \u001b[0;32mIn [33], line 18\u001b[0m\n\u001b[1;32m     15\u001b[0m \u001b[39mprint\u001b[39m(encoder_output\u001b[39m.\u001b[39mshape)\n\u001b[1;32m     17\u001b[0m attn_weights \u001b[39m=\u001b[39m Attention(encoder_output, encoder_hidden,batch_size)\n\u001b[0;32m---> 18\u001b[0m context \u001b[39m=\u001b[39m torch\u001b[39m.\u001b[39msum(attn_weights\u001b[39m*\u001b[39;49mencoder_output, dim\u001b[39m=\u001b[39m\u001b[39m2\u001b[39m )\n\u001b[1;32m     19\u001b[0m input_step \u001b[39m=\u001b[39m SOS_token \u001b[39m*\u001b[39m torch\u001b[39m.\u001b[39mones(\u001b[39m1\u001b[39m,dtype\u001b[39m=\u001b[39mtorch\u001b[39m.\u001b[39mlong) \n\u001b[1;32m     20\u001b[0m last_hidden \u001b[39m=\u001b[39m init_hidden_dec_eval()\n",
      "\u001b[0;31mRuntimeError\u001b[0m: The size of tensor a (50) must match the size of tensor b (100) at non-singleton dimension 2"
     ]
    }
   ],
   "source": [
    "batch_size =1\n",
    "with torch.no_grad():\n",
    "    hidden = init_hidden_eval()\n",
    "    seq = torch.tensor(seq)\n",
    "    \n",
    "    \n",
    "    #seq = seq.squeeze(2)\n",
    "    seq = seq.squeeze(0)\n",
    "\n",
    "    seq = seq.unsqueeze(0)\n",
    "    \n",
    "\n",
    "    encoder_output , encoder_hidden = Encode(seq, sequence_length,hidden)\n",
    "    encoder_hidden = encoder_hidden[0,:,:]+encoder_hidden[1,:,:]\n",
    "    print(encoder_output.shape)\n",
    "    \n",
    "    attn_weights = Attention(encoder_output, encoder_hidden,batch_size)\n",
    "    context = torch.sum(attn_weights*encoder_output, dim=2 )\n",
    "    input_step = SOS_token * torch.ones(1,dtype=torch.long) \n",
    "    last_hidden = init_hidden_dec_eval()\n",
    "    sequence_b = sequence_length_B\n",
    "    print(\"context\",context.shape)\n",
    "    for i in range(sequence_b):\n",
    "        output_decoder, decoder_hidden = Decode(input_step, context, last_hidden)\n",
    "        \n",
    "        output = F.softmax(output_decoder, dim =1)\n",
    "        #print(\"output\",output)\n",
    "        output = output.squeeze(0)\n",
    "\n",
    "        outputi = torch.argmax(output)\n",
    "        output = output[outputi]\n",
    "        #print(outputi)\n",
    "        output_decoder = output_decoder.squeeze(1)\n",
    "        input_step = output_decoder\n",
    "        _,input_step = input_step.topk(1)\n",
    "        input_step = input_step.squeeze(1)\n",
    "        last_hidden = decoder_hidden\n",
    "        last_hidden = last_hidden.squeeze(0)\n",
    "        attn_weights = Attention(encoder_output, last_hidden,batch_size)\n",
    "        attn_weights = attn_weights.unsqueeze(1)\n",
    "        context = torch.sum(attn_weights*encoder_output, dim =2)\n",
    "        last_hidden = last_hidden.unsqueeze(0)\n",
    "        key = [k for k, v in  features.items() if v==outputi]\n",
    "        print(key)\n",
    "        \n",
    "        \n",
    "\n",
    "    \n",
    "\n",
    "        \n",
    "\n",
    "        \n",
    "\n",
    "\n",
    "    \n",
    "    "
   ]
  },
  {
   "cell_type": "code",
   "execution_count": null,
   "metadata": {},
   "outputs": [],
   "source": []
  }
 ],
 "metadata": {
  "kernelspec": {
   "display_name": "Python 3 (ipykernel)",
   "language": "python",
   "name": "python3"
  },
  "language_info": {
   "codemirror_mode": {
    "name": "ipython",
    "version": 3
   },
   "file_extension": ".py",
   "mimetype": "text/x-python",
   "name": "python",
   "nbconvert_exporter": "python",
   "pygments_lexer": "ipython3",
   "version": "3.10.6"
  },
  "orig_nbformat": 4,
  "vscode": {
   "interpreter": {
    "hash": "31f2aee4e71d21fbe5cf8b01ff0e069b9275f58929596ceb00d14d90e3e16cd6"
   }
  }
 },
 "nbformat": 4,
 "nbformat_minor": 2
}
